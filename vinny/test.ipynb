{
 "cells": [
  {
   "cell_type": "code",
   "execution_count": 12,
   "metadata": {},
   "outputs": [
    {
     "name": "stdout",
     "output_type": "stream",
     "text": [
      "Non Repr\n",
      "['C:/Users/fconiglio/git/seal-team/vinny/Converted ZCUS Template Rev1.xltm', 'C:/Users/fconiglio/git/seal-team/vinny/Converted ZCUS Template Rev1F.xltm', 'C:/Users/fconiglio/git/seal-team/vinny/Converted ZCUS Template Rev1FC.xltm']\n",
      "Repr\n",
      "'C:/Users/fconiglio/git/seal-team/vinny/Converted ZCUS Template Rev1F.xltm'\n",
      "3\n"
     ]
    }
   ],
   "source": [
    "import sys\n",
    "import os\n",
    "\n",
    "t = [\"C:/Users/fconiglio/git/seal-team/vinny/Converted ZCUS Template Rev1.xltm\",\"C:/Users/fconiglio/git/seal-team/vinny/Converted ZCUS Template Rev1F.xltm\", \"C:/Users/fconiglio/git/seal-team/vinny/Converted ZCUS Template Rev1FC.xltm\"]\n",
    "\n",
    "rep_t = repr(t[1])\n",
    "print(\"Non Repr\")\n",
    "print(t)\n",
    "print(\"Repr\")\n",
    "print(rep_t)  \n",
    "\n",
    "print(len(t))"
   ]
  }
 ],
 "metadata": {
  "interpreter": {
   "hash": "a5f4b9d222e132b4ccfbb725e8464b26b0dca181103107af674ccebda445c434"
  },
  "kernelspec": {
   "display_name": "Python 3.9.7 64-bit",
   "language": "python",
   "name": "python3"
  },
  "language_info": {
   "codemirror_mode": {
    "name": "ipython",
    "version": 3
   },
   "file_extension": ".py",
   "mimetype": "text/x-python",
   "name": "python",
   "nbconvert_exporter": "python",
   "pygments_lexer": "ipython3",
   "version": "3.9.7"
  },
  "orig_nbformat": 4
 },
 "nbformat": 4,
 "nbformat_minor": 2
}
