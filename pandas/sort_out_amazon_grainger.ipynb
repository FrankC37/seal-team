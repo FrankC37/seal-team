{
 "cells": [
  {
   "cell_type": "code",
   "execution_count": 7,
   "metadata": {},
   "outputs": [],
   "source": [
    "import pandas as pd\n",
    "import sys\n",
    "import os\n",
    "user_input = r\"C:\\Users\\fconiglio\\Dropbox (USA Sealing)\\PC\\Downloads\\BackorderedSalesByProduct.xlsx\"\n",
    "df = pd.read_excel(user_input)\n"
   ]
  },
  {
   "cell_type": "code",
   "execution_count": 8,
   "metadata": {},
   "outputs": [],
   "source": [
    "\n",
    "df = df[df.Customer != 'Amazon.com Services, Inc']\n",
    "df = df[df.Customer != 'Grainger - Drop Ship']\n",
    "df = df[df.Customer != 'Grainger - Branch Office']\n",
    "df = df[df.Customer != 'Grainger - Sourcing']\n",
    "\n",
    "\n",
    "\n",
    "df.to_excel(r'C:\\Users\\fconiglio\\Dropbox (USA Sealing)\\PC\\Downloads\\SortedNoAmazon_Grainger.xlsx', index=False )\n",
    "\n"
   ]
  }
 ],
 "metadata": {
  "interpreter": {
   "hash": "a5f4b9d222e132b4ccfbb725e8464b26b0dca181103107af674ccebda445c434"
  },
  "kernelspec": {
   "display_name": "Python 3.9.7 64-bit",
   "name": "python3"
  },
  "language_info": {
   "codemirror_mode": {
    "name": "ipython",
    "version": 3
   },
   "file_extension": ".py",
   "mimetype": "text/x-python",
   "name": "python",
   "nbconvert_exporter": "python",
   "pygments_lexer": "ipython3",
   "version": "3.9.7"
  },
  "orig_nbformat": 4
 },
 "nbformat": 4,
 "nbformat_minor": 2
}
