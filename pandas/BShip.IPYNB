{
 "cells": [
  {
   "cell_type": "code",
   "execution_count": 7,
   "metadata": {},
   "outputs": [],
   "source": [
    "import pandas as pd\n",
    "import sys\n",
    "import os\n",
    "#Input file to be sorted\n",
    "user_input = r\"C:\\Users\\fconiglio\\Dropbox (USA Sealing)\\USA Sealing Team Folder\\USA Sealing Inc\\Frank\\Brett11.16\\WeeklyInvoiceReportBrett.xlsx\"\n",
    "#Output File\n",
    "writer = pd.ExcelWriter(r'C:\\Users\\fconiglio\\SortedShipments.xlsx', engine='xlsxwriter')\n",
    "\n",
    "df = pd.read_excel(user_input)\n"
   ]
  },
  {
   "cell_type": "code",
   "execution_count": 8,
   "metadata": {},
   "outputs": [
    {
     "ename": "SyntaxError",
     "evalue": "invalid syntax (Temp/ipykernel_17164/114822587.py, line 9)",
     "output_type": "error",
     "traceback": [
      "\u001b[1;36m  File \u001b[1;32m\"C:\\Users\\FCONIG~1\\AppData\\Local\\Temp/ipykernel_17164/114822587.py\"\u001b[1;36m, line \u001b[1;32m9\u001b[0m\n\u001b[1;33m    df_Grainger.to_excel(writer,sheet_name='Grainger', index=False)\u001b[0m\n\u001b[1;37m    ^\u001b[0m\n\u001b[1;31mSyntaxError\u001b[0m\u001b[1;31m:\u001b[0m invalid syntax\n"
     ]
    }
   ],
   "source": [
    "#Grainger DF\n",
    "\n",
    "\n",
    "df_Grainger = df[(df['Customer'] == 'Grainger - Drop Ship')|df[(df['Customer'] == 'Grainger - Sourcing')|df[(df['Customer'] == 'Grainger - Branch Office') ]\n",
    "\n",
    "\n",
    "df_Grainger.to_excel(writer,sheet_name='Grainger', index=False)\n"
   ]
  },
  {
   "cell_type": "code",
   "execution_count": null,
   "metadata": {},
   "outputs": [],
   "source": [
    "#MSC Data Frame\n",
    "\n",
    "df_MSC = df[df.Customer == 'MSC Industrial']|df[df.Customer == 'MSC Industrial - Drop Ship']\n",
    "\n",
    "\n",
    "df_MSC.to_excel(writer,sheet_name='MSC', index=False)\n"
   ]
  },
  {
   "cell_type": "code",
   "execution_count": null,
   "metadata": {},
   "outputs": [],
   "source": [
    "#Global Industrial Data Frame\n",
    "\n",
    "df_Global = df[df.Customer == 'Global Industrial']|df[df.Customer == 'Global Industrial - Drop Ship']\n",
    "\n",
    "\n",
    "\n",
    "df_Global.to_excel(writer,sheet_name='Glabal_Indus', index=False)\n"
   ]
  },
  {
   "cell_type": "code",
   "execution_count": null,
   "metadata": {},
   "outputs": [],
   "source": [
    "#Fastenal Data Frame\n",
    "\n",
    "df_Fastenal = df[df.Customer == 'Fastenal Company']\n",
    "\n",
    "df_Fastenal.to_excel(writer,sheet_name='Fastenal Company', index=False)\n",
    "\n"
   ]
  },
  {
   "cell_type": "code",
   "execution_count": null,
   "metadata": {},
   "outputs": [],
   "source": [
    "#Zoro Data Frame\n",
    "\n",
    "df_Zoro = df[df.Customer == 'Zoro - Drop Ship']\n",
    "\n",
    "df_Zoro.to_excel(writer,sheet_name='Zoro', index=False)\n"
   ]
  },
  {
   "cell_type": "code",
   "execution_count": null,
   "metadata": {},
   "outputs": [],
   "source": [
    "#Non Core Data Frame\n",
    "\n",
    "df_Non_Core = df[df.Customer != 'Zoro - Drop Ship']|df[df.Customer != 'Fastenal']|df[df.Customer != 'Global Industrial']|df[df.Customer != 'Global Industrial - Drop Ship']|df[df.Customer != 'MSC Industrial']|df[df.Customer != 'MSC Industrial - Drop Ship']|df[df.Customer != 'Grainger - Drop Ship']|df[df.Customer != 'Grainger - Sourcing']|df[df.Customer != 'Grainger - Branch Office']\n",
    "\n",
    "\n",
    "df_Non_Core.to_excel(writer,sheet_name = \"Non_Core\", index = False)\n",
    "writer.save()"
   ]
  }
 ],
 "metadata": {
  "interpreter": {
   "hash": "a5f4b9d222e132b4ccfbb725e8464b26b0dca181103107af674ccebda445c434"
  },
  "kernelspec": {
   "display_name": "Python 3.9.7 64-bit",
   "language": "python",
   "name": "python3"
  },
  "language_info": {
   "codemirror_mode": {
    "name": "ipython",
    "version": 3
   },
   "file_extension": ".py",
   "mimetype": "text/x-python",
   "name": "python",
   "nbconvert_exporter": "python",
   "pygments_lexer": "ipython3",
   "version": "3.9.7"
  },
  "orig_nbformat": 4
 },
 "nbformat": 4,
 "nbformat_minor": 2
}
