{
 "cells": [
  {
   "cell_type": "code",
   "execution_count": 13,
   "metadata": {},
   "outputs": [],
   "source": [
    "import pandas as pd\n",
    "\n",
    "df = pd.read_excel('BackorderedSalesByProduct.xlsx')"
   ]
  },
  {
   "cell_type": "code",
   "execution_count": 14,
   "metadata": {},
   "outputs": [],
   "source": [
    "\n",
    "df = df[df.Customer != 'Amazon.com Services, Inc']\n",
    "df = df[df.Customer != 'Grainger - Drop Ship']\n",
    "df = df[df.Customer != 'Grainger - Branch Office']\n",
    "df = df[df.Customer != 'Grainger - Sourcing']\n",
    "\n",
    "\n",
    "\n",
    "df.to_excel('SortedNoAmazon_Grainger.xlsx', index=False )\n"
   ]
  }
 ],
 "metadata": {
  "interpreter": {
   "hash": "a5f4b9d222e132b4ccfbb725e8464b26b0dca181103107af674ccebda445c434"
  },
  "kernelspec": {
   "display_name": "Python 3.9.7 64-bit",
   "name": "python3"
  },
  "language_info": {
   "codemirror_mode": {
    "name": "ipython",
    "version": 3
   },
   "file_extension": ".py",
   "mimetype": "text/x-python",
   "name": "python",
   "nbconvert_exporter": "python",
   "pygments_lexer": "ipython3",
   "version": "3.9.7"
  },
  "orig_nbformat": 4
 },
 "nbformat": 4,
 "nbformat_minor": 2
}
