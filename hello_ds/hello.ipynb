{
 "cells": [
  {
   "cell_type": "code",
   "execution_count": 1,
   "metadata": {},
   "outputs": [],
   "source": [
    "import pandas as pd\n",
    "import numpy as np\n",
    "data = pd.read_csv('data.csv')"
   ]
  },
  {
   "cell_type": "code",
   "execution_count": null,
   "metadata": {},
   "outputs": [],
   "source": [
    "data.replace('?', np.nan, inplace= True)\n",
    "data = data.astype({\"age\": np.float64, \"fare\": np.float64})"
   ]
  }
 ],
 "metadata": {
  "interpreter": {
   "hash": "07247b802664959876fcdbcf1789f9cd7a8878f0e9f06bfdcda758ff3bc9e953"
  },
  "kernelspec": {
   "display_name": "Python 3.8.12 64-bit ('datas': conda)",
   "name": "python3"
  },
  "language_info": {
   "codemirror_mode": {
    "name": "ipython",
    "version": 3
   },
   "file_extension": ".py",
   "mimetype": "text/x-python",
   "name": "python",
   "nbconvert_exporter": "python",
   "pygments_lexer": "ipython3",
   "version": "3.8.12"
  },
  "orig_nbformat": 4
 },
 "nbformat": 4,
 "nbformat_minor": 2
}
