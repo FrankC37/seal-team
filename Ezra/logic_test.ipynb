{
 "cells": [
  {
   "cell_type": "code",
   "execution_count": 4,
   "metadata": {},
   "outputs": [],
   "source": [
    "import pandas as pd\n",
    "inv=pd.read_excel('C:/Users/fconiglio/git/seal-team/Ezra/EZProductionInvSearchResults752.xlsx')\n",
    "sales=pd.read_excel('C:/Users/fconiglio/git/seal-team/Ezra/EZ_Backlog_by_Product470.xlsx')\n",
    "sku = input(\"Enter SKU: \")\n"
   ]
  },
  {
   "cell_type": "code",
   "execution_count": 8,
   "metadata": {},
   "outputs": [
    {
     "data": {
      "text/html": [
       "<div>\n",
       "<style scoped>\n",
       "    .dataframe tbody tr th:only-of-type {\n",
       "        vertical-align: middle;\n",
       "    }\n",
       "\n",
       "    .dataframe tbody tr th {\n",
       "        vertical-align: top;\n",
       "    }\n",
       "\n",
       "    .dataframe thead th {\n",
       "        text-align: right;\n",
       "    }\n",
       "</style>\n",
       "<table border=\"1\" class=\"dataframe\">\n",
       "  <thead>\n",
       "    <tr style=\"text-align: right;\">\n",
       "      <th></th>\n",
       "      <th>Item</th>\n",
       "      <th>Preferred Vendor</th>\n",
       "      <th>Machine Assignment</th>\n",
       "      <th>Taxonomy 2</th>\n",
       "      <th>RM Master Parent</th>\n",
       "      <th>Taxonomy 4</th>\n",
       "      <th>Description</th>\n",
       "      <th>RM Thickness</th>\n",
       "      <th>RM Length</th>\n",
       "      <th>RM Width</th>\n",
       "      <th>...</th>\n",
       "      <th>Color</th>\n",
       "      <th>Finishing Instructions</th>\n",
       "      <th>On Hand</th>\n",
       "      <th>On Order</th>\n",
       "      <th>Committed</th>\n",
       "      <th>Preferred Stock Level</th>\n",
       "      <th>Reorder Point</th>\n",
       "      <th>Reorder Multiple</th>\n",
       "      <th>BOM</th>\n",
       "      <th>Back Ordered</th>\n",
       "    </tr>\n",
       "  </thead>\n",
       "  <tbody>\n",
       "    <tr>\n",
       "      <th>8056</th>\n",
       "      <td>BULK-PS-NYL-307</td>\n",
       "      <td>NaN</td>\n",
       "      <td>Hendrix</td>\n",
       "      <td>Plastics</td>\n",
       "      <td>BULK-PS-NYL-7</td>\n",
       "      <td>Nylon Plastic Sheets &amp; Bars</td>\n",
       "      <td>White Nylon 6/6 Plastic Bar - 3/8\" Thick x 3\" ...</td>\n",
       "      <td>0.375</td>\n",
       "      <td>48</td>\n",
       "      <td>3.0</td>\n",
       "      <td>...</td>\n",
       "      <td>Off-White</td>\n",
       "      <td>Tag Part</td>\n",
       "      <td>3.0</td>\n",
       "      <td>NaN</td>\n",
       "      <td>NaN</td>\n",
       "      <td>0.0</td>\n",
       "      <td>0.0</td>\n",
       "      <td>8.0</td>\n",
       "      <td>0.125</td>\n",
       "      <td>12.0</td>\n",
       "    </tr>\n",
       "  </tbody>\n",
       "</table>\n",
       "<p>1 rows × 23 columns</p>\n",
       "</div>"
      ],
      "text/plain": [
       "                 Item Preferred Vendor Machine Assignment Taxonomy 2  \\\n",
       "8056  BULK-PS-NYL-307              NaN            Hendrix   Plastics   \n",
       "\n",
       "     RM Master Parent                   Taxonomy 4  \\\n",
       "8056    BULK-PS-NYL-7  Nylon Plastic Sheets & Bars   \n",
       "\n",
       "                                            Description RM Thickness  \\\n",
       "8056  White Nylon 6/6 Plastic Bar - 3/8\" Thick x 3\" ...        0.375   \n",
       "\n",
       "     RM Length  RM Width  ...      Color Finishing Instructions On Hand  \\\n",
       "8056        48       3.0  ...  Off-White               Tag Part     3.0   \n",
       "\n",
       "     On Order Committed  Preferred Stock Level  Reorder Point  \\\n",
       "8056      NaN       NaN                    0.0            0.0   \n",
       "\n",
       "      Reorder Multiple    BOM  Back Ordered  \n",
       "8056               8.0  0.125          12.0  \n",
       "\n",
       "[1 rows x 23 columns]"
      ]
     },
     "execution_count": 8,
     "metadata": {},
     "output_type": "execute_result"
    }
   ],
   "source": [
    "child_info=inv[inv['Item']==sku] \n",
    "\n",
    "child_info"
   ]
  },
  {
   "cell_type": "code",
   "execution_count": 7,
   "metadata": {},
   "outputs": [
    {
     "data": {
      "text/html": [
       "<div>\n",
       "<style scoped>\n",
       "    .dataframe tbody tr th:only-of-type {\n",
       "        vertical-align: middle;\n",
       "    }\n",
       "\n",
       "    .dataframe tbody tr th {\n",
       "        vertical-align: top;\n",
       "    }\n",
       "\n",
       "    .dataframe thead th {\n",
       "        text-align: right;\n",
       "    }\n",
       "</style>\n",
       "<table border=\"1\" class=\"dataframe\">\n",
       "  <thead>\n",
       "    <tr style=\"text-align: right;\">\n",
       "      <th></th>\n",
       "      <th>Item</th>\n",
       "      <th>RM Length</th>\n",
       "      <th>RM Width</th>\n",
       "    </tr>\n",
       "  </thead>\n",
       "  <tbody>\n",
       "    <tr>\n",
       "      <th>8056</th>\n",
       "      <td>BULK-PS-NYL-307</td>\n",
       "      <td>48</td>\n",
       "      <td>3.0</td>\n",
       "    </tr>\n",
       "  </tbody>\n",
       "</table>\n",
       "</div>"
      ],
      "text/plain": [
       "                 Item RM Length  RM Width\n",
       "8056  BULK-PS-NYL-307        48       3.0"
      ]
     },
     "execution_count": 7,
     "metadata": {},
     "output_type": "execute_result"
    }
   ],
   "source": [
    "child_info_stack=child_info[['Item','RM Length','RM Width']]\n",
    "child_info_stack"
   ]
  },
  {
   "cell_type": "code",
   "execution_count": 12,
   "metadata": {},
   "outputs": [],
   "source": [
    "inv_children=inv[inv['RM Master Parent']==child_info.iat[0,4] ]\n",
    "inv_children = inv_children.sort_values(by='BOM', ascending=False)\n"
   ]
  },
  {
   "cell_type": "code",
   "execution_count": 13,
   "metadata": {},
   "outputs": [],
   "source": [
    "child_info_stack=child_info[['Item','RM Length','RM Width']]"
   ]
  },
  {
   "cell_type": "code",
   "execution_count": 14,
   "metadata": {},
   "outputs": [],
   "source": [
    "inv_children=inv_children[['Item','On Hand','On Order','Committed','Preferred Stock Level','Reorder Point','Reorder Multiple','RM Master Parent','BOM','RM Thickness','RM Length','RM Width','Bin Number','Product Class','Machine Assignment']] #output 1\n"
   ]
  },
  {
   "cell_type": "code",
   "execution_count": 19,
   "metadata": {},
   "outputs": [],
   "source": [
    "sales_match=pd.merge(left=child_info, right=sales,how='left',left_on='Item', right_on='Product SKU') #pulling in sales againt the children, has duplicates\n",
    "sales_match=sales_match[['Product SKU','Document Number','Date','Qty on Backorder','Qty on Order','Qty Available','Requested Ship Date']] #dropping excess columns/redefining the data set, output 2\n",
    "sales_match.reset_index(drop=True, inplace=True)"
   ]
  },
  {
   "cell_type": "code",
   "execution_count": 22,
   "metadata": {},
   "outputs": [
    {
     "name": "stderr",
     "output_type": "stream",
     "text": [
      "C:\\Users\\FCONIG~1\\AppData\\Local\\Temp/ipykernel_3688/3221989164.py:1: FutureWarning: In a future version of pandas all arguments of concat except for the argument 'objs' will be keyword-only\n",
      "  children_sales_grouped=pd.concat([inv_children], [sales_match.reset_index(drop=True)], axis= 1) #chilren sku with related sales pulled in their own columns, takes care of duplicates as they get their own column and by doing sales_match I only captured the relevant ones\n"
     ]
    },
    {
     "ename": "TypeError",
     "evalue": "concat() got multiple values for argument 'axis'",
     "output_type": "error",
     "traceback": [
      "\u001b[1;31m---------------------------------------------------------------------------\u001b[0m",
      "\u001b[1;31mTypeError\u001b[0m                                 Traceback (most recent call last)",
      "\u001b[1;32mC:\\Users\\FCONIG~1\\AppData\\Local\\Temp/ipykernel_3688/3221989164.py\u001b[0m in \u001b[0;36m<module>\u001b[1;34m\u001b[0m\n\u001b[1;32m----> 1\u001b[1;33m \u001b[0mchildren_sales_grouped\u001b[0m\u001b[1;33m=\u001b[0m\u001b[0mpd\u001b[0m\u001b[1;33m.\u001b[0m\u001b[0mconcat\u001b[0m\u001b[1;33m(\u001b[0m\u001b[1;33m[\u001b[0m\u001b[0minv_children\u001b[0m\u001b[1;33m]\u001b[0m\u001b[1;33m,\u001b[0m \u001b[1;33m[\u001b[0m\u001b[0msales_match\u001b[0m\u001b[1;33m.\u001b[0m\u001b[0mreset_index\u001b[0m\u001b[1;33m(\u001b[0m\u001b[0mdrop\u001b[0m\u001b[1;33m=\u001b[0m\u001b[1;32mTrue\u001b[0m\u001b[1;33m)\u001b[0m\u001b[1;33m]\u001b[0m\u001b[1;33m,\u001b[0m \u001b[0maxis\u001b[0m\u001b[1;33m=\u001b[0m \u001b[1;36m1\u001b[0m\u001b[1;33m)\u001b[0m \u001b[1;31m#chilren sku with related sales pulled in their own columns, takes care of duplicates as they get their own column and by doing sales_match I only captured the relevant ones\u001b[0m\u001b[1;33m\u001b[0m\u001b[1;33m\u001b[0m\u001b[0m\n\u001b[0m\u001b[0;32m      2\u001b[0m \u001b[1;33m\u001b[0m\u001b[0m\n\u001b[0;32m      3\u001b[0m \u001b[0mchildren_sales_grouped\u001b[0m\u001b[1;33m\u001b[0m\u001b[1;33m\u001b[0m\u001b[0m\n",
      "\u001b[1;32m~\\AppData\\Local\\Programs\\Python\\Python39\\lib\\site-packages\\pandas\\util\\_decorators.py\u001b[0m in \u001b[0;36mwrapper\u001b[1;34m(*args, **kwargs)\u001b[0m\n\u001b[0;32m    309\u001b[0m                     \u001b[0mstacklevel\u001b[0m\u001b[1;33m=\u001b[0m\u001b[0mstacklevel\u001b[0m\u001b[1;33m,\u001b[0m\u001b[1;33m\u001b[0m\u001b[1;33m\u001b[0m\u001b[0m\n\u001b[0;32m    310\u001b[0m                 )\n\u001b[1;32m--> 311\u001b[1;33m             \u001b[1;32mreturn\u001b[0m \u001b[0mfunc\u001b[0m\u001b[1;33m(\u001b[0m\u001b[1;33m*\u001b[0m\u001b[0margs\u001b[0m\u001b[1;33m,\u001b[0m \u001b[1;33m**\u001b[0m\u001b[0mkwargs\u001b[0m\u001b[1;33m)\u001b[0m\u001b[1;33m\u001b[0m\u001b[1;33m\u001b[0m\u001b[0m\n\u001b[0m\u001b[0;32m    312\u001b[0m \u001b[1;33m\u001b[0m\u001b[0m\n\u001b[0;32m    313\u001b[0m         \u001b[1;32mreturn\u001b[0m \u001b[0mwrapper\u001b[0m\u001b[1;33m\u001b[0m\u001b[1;33m\u001b[0m\u001b[0m\n",
      "\u001b[1;31mTypeError\u001b[0m: concat() got multiple values for argument 'axis'"
     ]
    }
   ],
   "source": [
    "children_sales_grouped=pd.concat([inv_children, sales_match.reset_index(drop=True)], axis= 1) #chilren sku with related sales pulled in their own columns, takes care of duplicates as they get their own column and by doing sales_match I only captured the relevant ones\n",
    "\n",
    "children_sales_grouped"
   ]
  },
  {
   "cell_type": "code",
   "execution_count": null,
   "metadata": {},
   "outputs": [],
   "source": [
    "result_wip = children_sales_grouped.sort_values(by='BOM',ascending=False) # organizing by bom\n",
    "result= pd.concat([child_info_stack, result_wip], axis= 1)# adding the sku in quesiton info to our over all results\n"
   ]
  }
 ],
 "metadata": {
  "interpreter": {
   "hash": "ecf5722fdaf1897a315d257d89d94520bfcaa453217d5becf09b39e73618b0de"
  },
  "kernelspec": {
   "display_name": "Python 3.9.5 64-bit ('base': conda)",
   "language": "python",
   "name": "python3"
  },
  "language_info": {
   "codemirror_mode": {
    "name": "ipython",
    "version": 3
   },
   "file_extension": ".py",
   "mimetype": "text/x-python",
   "name": "python",
   "nbconvert_exporter": "python",
   "pygments_lexer": "ipython3",
   "version": "3.9.7"
  },
  "orig_nbformat": 4
 },
 "nbformat": 4,
 "nbformat_minor": 2
}
